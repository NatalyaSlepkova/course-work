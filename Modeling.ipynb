{
 "cells": [
  {
   "cell_type": "markdown",
   "metadata": {},
   "source": [
    "# Курсовая работа\n",
    "***"
   ]
  },
  {
   "cell_type": "markdown",
   "metadata": {},
   "source": [
    "# Моделирование роста монокристаллического твердого раствора $Al_xGa_{1-x}N$ методом хлоридной эпитаксии\n"
   ]
  },
  {
   "cell_type": "code",
   "execution_count": 2,
   "metadata": {},
   "outputs": [
    {
     "ename": "ModuleNotFoundError",
     "evalue": "No module named 'tqdm'",
     "output_type": "error",
     "traceback": [
      "\u001b[0;31m---------------------------------------------------------------------------\u001b[0m",
      "\u001b[0;31mModuleNotFoundError\u001b[0m                       Traceback (most recent call last)",
      "\u001b[0;32m<ipython-input-2-ea622d566369>\u001b[0m in \u001b[0;36m<module>\u001b[0;34m()\u001b[0m\n\u001b[1;32m      4\u001b[0m \u001b[0;32mimport\u001b[0m \u001b[0mscipy\u001b[0m\u001b[0;34m.\u001b[0m\u001b[0mlinalg\u001b[0m\u001b[0;34m\u001b[0m\u001b[0m\n\u001b[1;32m      5\u001b[0m \u001b[0;32mimport\u001b[0m \u001b[0msympy\u001b[0m \u001b[0;32mas\u001b[0m \u001b[0msm\u001b[0m\u001b[0;34m\u001b[0m\u001b[0m\n\u001b[0;32m----> 6\u001b[0;31m \u001b[0;32mfrom\u001b[0m \u001b[0mtqdm\u001b[0m \u001b[0;32mimport\u001b[0m \u001b[0mtqdm\u001b[0m\u001b[0;34m\u001b[0m\u001b[0m\n\u001b[0m\u001b[1;32m      7\u001b[0m \u001b[0;32mfrom\u001b[0m \u001b[0mggplot\u001b[0m \u001b[0;32mimport\u001b[0m \u001b[0;34m*\u001b[0m\u001b[0;34m\u001b[0m\u001b[0m\n\u001b[1;32m      8\u001b[0m \u001b[0;32mimport\u001b[0m \u001b[0mmatplotlib\u001b[0m\u001b[0;34m.\u001b[0m\u001b[0mpyplot\u001b[0m \u001b[0;32mas\u001b[0m \u001b[0mplt\u001b[0m\u001b[0;34m\u001b[0m\u001b[0m\n",
      "\u001b[0;31mModuleNotFoundError\u001b[0m: No module named 'tqdm'"
     ]
    }
   ],
   "source": [
    "import numpy as np\n",
    "import pandas as pd\n",
    "import scipy as sp\n",
    "import scipy.linalg\n",
    "import sympy as sm\n",
    "from tqdm import tqdm\n",
    "from ggplot import *\n",
    "import matplotlib.pyplot as plt\n",
    "import matplotlib\n",
    "from itertools import product\n",
    "from pylab import rcParams\n",
    "\n",
    "# Для тестов\n",
    "def is_close(a, b, rel_tol=1e-06, abs_tol=0.0):\n",
    "    return abs(a-b) <= max(rel_tol * max(abs(a), abs(b)), abs_tol)"
   ]
  },
  {
   "cell_type": "markdown",
   "metadata": {},
   "source": [
    "#### Данные"
   ]
  },
  {
   "cell_type": "code",
   "execution_count": 1,
   "metadata": {},
   "outputs": [
    {
     "ename": "NameError",
     "evalue": "name 'pd' is not defined",
     "output_type": "error",
     "traceback": [
      "\u001b[0;31m---------------------------------------------------------------------------\u001b[0m",
      "\u001b[0;31mNameError\u001b[0m                                 Traceback (most recent call last)",
      "\u001b[0;32m<ipython-input-1-e5f19c263a46>\u001b[0m in \u001b[0;36m<module>\u001b[0;34m()\u001b[0m\n\u001b[0;32m----> 1\u001b[0;31m row_data = pd.read_csv('q.csv', sep=';', \n\u001b[0m\u001b[1;32m      2\u001b[0m                        \u001b[0mindex_col\u001b[0m\u001b[0;34m=\u001b[0m\u001b[0;32mFalse\u001b[0m\u001b[0;34m,\u001b[0m\u001b[0;34m\u001b[0m\u001b[0m\n\u001b[1;32m      3\u001b[0m                        names=[\"\", \"Phase\", \"T1\", \"T2\", \"H\", \n\u001b[1;32m      4\u001b[0m                               \u001b[0;34m\"f1\"\u001b[0m\u001b[0;34m,\u001b[0m \u001b[0;34m\"f2\"\u001b[0m\u001b[0;34m,\u001b[0m \u001b[0;34m\"f3\"\u001b[0m\u001b[0;34m,\u001b[0m \u001b[0;34m\"f4\"\u001b[0m\u001b[0;34m,\u001b[0m \u001b[0;34m\"f5\"\u001b[0m\u001b[0;34m,\u001b[0m \u001b[0;34m\"f6\"\u001b[0m\u001b[0;34m,\u001b[0m \u001b[0;34m\"f7\"\u001b[0m\u001b[0;34m,\u001b[0m\u001b[0;34m\u001b[0m\u001b[0m\n\u001b[1;32m      5\u001b[0m                               \"mu\", \"sigma\", \"epsil\", \"Comment\"])\n",
      "\u001b[0;31mNameError\u001b[0m: name 'pd' is not defined"
     ]
    }
   ],
   "source": [
    "row_data = pd.read_csv('q.csv', sep=';', \n",
    "                       index_col=False, \n",
    "                       names=[\"\", \"Phase\", \"T1\", \"T2\", \"H\", \n",
    "                              \"f1\", \"f2\", \"f3\", \"f4\", \"f5\", \"f6\", \"f7\", \n",
    "                              \"mu\", \"sigma\", \"epsil\", \"Comment\"])\n",
    "row_data.set_index('', inplace = True)\n",
    "row_data.head()"
   ]
  },
  {
   "cell_type": "markdown",
   "metadata": {},
   "source": [
    "#### Константы"
   ]
  },
  {
   "cell_type": "code",
   "execution_count": null,
   "metadata": {
    "collapsed": true
   },
   "outputs": [],
   "source": [
    "R = 8.314 # Дж/(моль*К)\n",
    "Pa = 100000 # атмосферное давление"
   ]
  },
  {
   "cell_type": "markdown",
   "metadata": {},
   "source": [
    "#### Распределение веществ по твердым, жидким и газообазным"
   ]
  },
  {
   "cell_type": "code",
   "execution_count": null,
   "metadata": {
    "collapsed": true
   },
   "outputs": [],
   "source": [
    "solid = {'Al', 'AlN', 'GaN'}\n",
    "liquid = {'Ga'}\n",
    "gas = {'AlCl', 'AlCl2', 'AlCl3', 'GaCl', 'GaCl2', 'GaCl3', 'NH3', 'H2', 'HCl', 'N2'}\n"
   ]
  },
  {
   "cell_type": "markdown",
   "metadata": {},
   "source": [
    "#### Рассчетные функции"
   ]
  },
  {
   "cell_type": "code",
   "execution_count": null,
   "metadata": {
    "collapsed": true
   },
   "outputs": [],
   "source": [
    "\"\"\" Коэффициенты диффузии (м2/сек) для газообразных компонент\n",
    "ind - 'AlCl', 'GaN, ... \n",
    "t - температура в К\n",
    "p - полное давление в системе\n",
    "\"\"\"\n",
    "def calcDGas(ind, t, p):\n",
    "    assert (ind in gas), \"This function could caclulate D only for gaseous substance\"\n",
    "    \n",
    "    numerator = 2.628 * 10**(-2) * t**(3/2)\n",
    "    \n",
    "    d_ind = row_data.loc[ind]\n",
    "    d_N2 = row_data.loc['N2']\n",
    "    \n",
    "    sigma = (d_ind.sigma + d_N2.sigma) / 2\n",
    "    epsil = (d_ind.epsil * d_N2.epsil)**(1/2)\n",
    "    mu = (2 * d_ind.mu * d_N2.mu) / (d_ind.mu + d_N2.mu)\n",
    "    omega = 1.074 * (t / epsil)**(-0.1604)\n",
    "    \n",
    "    return numerator / (p * omega * mu**(1/2))\n",
    "\n",
    "\"\"\"\n",
    "Φ для расчета энергии Гиббса\n",
    "ind - 'AlCl', 'GaN, ... \n",
    "t - температура в К\n",
    "\"\"\"\n",
    "def calcPhi(ind, t):\n",
    "    data = row_data.loc[ind]\n",
    "    x = t / 10**4\n",
    "    \n",
    "    return  data.f1 + data.f2 * np.log(x) + \n",
    "            data.f3 / x**2 + data.f4 / x +\n",
    "            data.f5 * x + data.f6 * x**2 + \n",
    "            data.f7 * x**3\n",
    "\n",
    "\n",
    "\"\"\"\n",
    "Энергия Гиббса\n",
    "ind - 'AlCl', 'GaN, ... \n",
    "t - температура в К\n",
    "\"\"\"\n",
    "def calcG(ind, t):\n",
    "    data = row_data.loc[ind]\n",
    "    return data.H - calcPhi(ind, t) * t"
   ]
  },
  {
   "cell_type": "markdown",
   "metadata": {},
   "source": [
    "### Рассчет K"
   ]
  },
  {
   "cell_type": "code",
   "execution_count": null,
   "metadata": {
    "collapsed": true
   },
   "outputs": [],
   "source": [
    "def calcK1(t):\n",
    "    deltaG1 = 2 * calcG('Al', t) + 2 * calcG('HCl', t) - 2 * calcG('AlCl', t) - calcG('H2', t)\n",
    "    return np.exp(-deltaG1 / (R * t)) / Pa\n",
    "\n",
    "\n",
    "def calcK2(t):\n",
    "    deltaG2 = calcG('Al', t) + 2 * calcG('HCl', t) - calcG('AlCl2', t) - calcG('H2', t)\n",
    "    return np.exp(-deltaG2 / (R * t))\n",
    "\n",
    "\n",
    "def calcK3(t):\n",
    "    deltaG3 = calcG('Al', t) - 2 * calcG('AlCl3', t) - 3 * calcG('H2', t) + 6 * calcG('HCl', t)\n",
    "    return np.exp(-deltaG3 / (R * t)) * Pa\n",
    "\n",
    "print(\"K1 = \", calcK1(100))\n",
    "print(\"K2 = \", calcK2(100))\n",
    "print(\"K3 = \", calcK3(100))"
   ]
  },
  {
   "cell_type": "markdown",
   "metadata": {},
   "source": [
    "# Первое задание"
   ]
  },
  {
   "cell_type": "code",
   "execution_count": 10,
   "metadata": {
    "collapsed": true
   },
   "outputs": [],
   "source": [
    "def newton_solve(system, jacobian, variables, epsilon=1e-9):\n",
    "    x = np.random.uniform(0.1, 1., len(variables)).tolist()\n",
    "    delta = 1\n",
    "    nstep = 0\n",
    "    while np.linalg.norm(delta) > epsilon:\n",
    "        delta = sp.linalg.lu_solve(sp.linalg.lu_factor(jacobian(*x)), -system(*x))\n",
    "        x = delta.flatten() + x\n",
    "        nstep += 1\n",
    "    # evaluate error: residual sum of absulute values F(x)\n",
    "    rsa = np.abs(system(*x.tolist())).sum()\n",
    "    return x, rsa, nstep"
   ]
  },
  {
   "cell_type": "code",
   "execution_count": 11,
   "metadata": {},
   "outputs": [
    {
     "name": "stdout",
     "output_type": "stream",
     "text": [
      "One of solutions:\n"
     ]
    },
    {
     "data": {
      "text/plain": [
       "{p_AlCl: 0.0038036484966619552,\n",
       " p_AlCl2: 0.00015128460027242208,\n",
       " p_AlCl3: 4379.4231702500401,\n",
       " p_HCl: 0.00012849357613750847,\n",
       " p_H2: 1516.5792358713466}"
      ]
     },
     "execution_count": 11,
     "metadata": {},
     "output_type": "execute_result"
    }
   ],
   "source": [
    "\"\"\"\n",
    "Парциальные давления компонент вне диффузионного пограничного слоя (Па)\n",
    "PS Даны в условии поэтому дефайним только для этого задания\n",
    "ind - 'AlCl', 'GaN, ... \n",
    "\"\"\"\n",
    "def first_calcPg(ind):\n",
    "    if ind == 'AlCl' or ind == 'AlCl2' or ind == 'AlCl3' or ind == 'H2':\n",
    "        return 0\n",
    "    if ind == 'HCl':\n",
    "        return 10000\n",
    "    if ind == 'N2':\n",
    "        return 90000\n",
    "    raise Exception('Unexpected substance: ' + ind)\n",
    "\n",
    "    \n",
    "def first_make_system(pg_HCl=10000.0, p=100000, T=(350.0 + 273.0)):\n",
    "    p_AlCl, p_AlCl2, p_AlCl3, p_HCl, p_H2 = first_variables = sm.symbols('p_AlCl, p_AlCl2, p_AlCl3, p_HCl, p_H2')\n",
    "    k1 = calcK1(T)\n",
    "    k2 = calcK2(T)\n",
    "    k3 = calcK3(T)\n",
    "    d_HCl = calcDGas('HCl', T, p)\n",
    "    d_H2 = calcDGas('H2', T, p)\n",
    "    d_AlCl = calcDGas('AlCl', T, p)\n",
    "    d_AlCl2 = calcDGas('AlCl2', T, p)\n",
    "    d_AlCl3 = calcDGas('AlCl3', T, p)\n",
    "    equations = []\n",
    "    equations.append(p_HCl ** 2 - k1 * p_AlCl ** 2 * p_H2)\n",
    "    equations.append(p_HCl ** 2 - k2 * p_AlCl2 * p_H2)\n",
    "    equations.append(p_HCl ** 6 - k3 * p_AlCl3 ** 2 * p_H2 ** 3)\n",
    "    equations.append(d_HCl * (p_HCl - pg_HCl) + 2 * d_H2 * p_H2)\n",
    "    equations.append(d_AlCl  * p_AlCl  + \n",
    "                 2 * d_AlCl2 * p_AlCl2 + \n",
    "                 3 * d_AlCl3 * p_AlCl3 + \n",
    "                     d_HCl * (p_HCl - pg_HCl))\n",
    "    system = sm.Matrix(equations)\n",
    "    jacobian = system.jacobian(first_variables)\n",
    "    system = sm.lambdify(first_variables, system)\n",
    "    jacobian = sm.lambdify(first_variables, jacobian)\n",
    "    return system, jacobian, first_variables\n",
    "\n",
    "print('One of solutions:')\n",
    "system, jacobian, first_variables = first_make_system(T=350 + 273)\n",
    "dict(zip(first_variables, newton_solve(system, jacobian, first_variables)[0]))"
   ]
  },
  {
   "cell_type": "code",
   "execution_count": 21,
   "metadata": {
    "collapsed": true
   },
   "outputs": [],
   "source": [
    "# benchmark\n",
    "Ts = np.linspace(350, 650, 60) + 273\n",
    "nruns = 1\n",
    "sigma = 0.01\n",
    "p = first_calcPg('HCl') + first_calcPg('N2')\n",
    "first_newton_benchmark = pd.DataFrame(columns=['T_', 'G_AlCl', 'G_AlCl2', 'G_AlCl3', \n",
    "                                         'rsa', 'rsa_std', 'nstep', 'nstep_std'])\n",
    "targets = ['AlCl', 'AlCl2', 'AlCl3']\n",
    "for k, T in tqdm(list(enumerate(Ts))):\n",
    "    sols = np.zeros((nruns, 5))\n",
    "    rsa = np.zeros(nruns)\n",
    "    nstep = np.zeros(nruns)\n",
    "    for i in range(nruns):\n",
    "        system, jacobian, first_variables = first_make_system(T=T)\n",
    "        sols[i], rsa[i], nstep[i] = newton_solve(system, jacobian, first_variables)\n",
    "    sol_std = sols.std(0)\n",
    "    solution = sols.mean(0)\n",
    "    rsa_std = rsa.std()\n",
    "    rsa = rsa.mean()\n",
    "    nstep_std = nstep.std()\n",
    "    nstep = nstep.mean()\n",
    "    # G_i\n",
    "    G = {}\n",
    "    Pe = dict(zip(map(str, first_variables), solution))\n",
    "    for Gas in targets:\n",
    "        G[Gas] = calcDGas(Gas, T, p) * (first_calcPg(Gas) - Pe['p_' + Gas]) / (R * T * sigma)\n",
    "    pho = 2712.0\n",
    "    mu = row_data.loc['Al'].mu\n",
    "    first_newton_benchmark.loc[k] = {\n",
    "        'T_': T,\n",
    "        'G_AlCl': G['AlCl'],\n",
    "        'G_AlCl2': G['AlCl2'],\n",
    "        'G_AlCl3': G['AlCl3'],\n",
    "        'rsa': rsa,\n",
    "        'rsa_std': rsa_std,\n",
    "        'nstep': nstep,\n",
    "        'nstep_std': nstep_std\n",
    "    }"
   ]
  },
  {
   "cell_type": "code",
   "execution_count": 22,
   "metadata": {
    "collapsed": true
   },
   "outputs": [],
   "source": [
    "first_newton_benchmark['invT'] = 1 / first_newton_benchmark.T_\n",
    "first_newton_benchmark['G_AlCl_log'] = np.log(np.abs(first_newton_benchmark.G_AlCl))\n",
    "first_newton_benchmark['G_AlCl2_log'] = np.log(np.abs(first_newton_benchmark.G_AlCl2))\n",
    "first_newton_benchmark['G_AlCl3_log'] = np.log(np.abs(first_newton_benchmark.G_AlCl3))\n",
    "first_newton_df = pd.melt(first_newton_benchmark[['invT', 'G_AlCl_log', \n",
    "                                      'G_AlCl2_log', 'G_AlCl2_log', 'G_AlCl3_log']], id_vars=['invT'])"
   ]
  },
  {
   "cell_type": "code",
   "execution_count": 23,
   "metadata": {},
   "outputs": [
    {
     "data": {
      "image/png": "[encoded data removed]",
      "text/plain": [
       "<matplotlib.figure.Figure at 0x7f7d79659e10>"
      ]
     },
     "metadata": {},
     "output_type": "display_data"
    },
    {
     "data": {
      "text/plain": [
       "<ggplot: (-9223363275799504552)>"
      ]
     },
     "execution_count": 23,
     "metadata": {},
     "output_type": "execute_result"
    }
   ],
   "source": [
    "rcParams['figure.figsize'] = 10, 7\n",
    "(ggplot(aes(x = 'invT', y = 'value', color='variable'), first_newton_df) + \n",
    "    geom_line(size=2) + \n",
    "    ylab('log-scaled value') + \n",
    "    xlab('1/T') + theme_bw())"
   ]
  },
  {
   "cell_type": "code",
   "execution_count": 3,
   "metadata": {},
   "outputs": [
    {
     "ename": "NameError",
     "evalue": "name 'rcParams' is not defined",
     "output_type": "error",
     "traceback": [
      "\u001b[0;31m---------------------------------------------------------------------------\u001b[0m",
      "\u001b[0;31mNameError\u001b[0m                                 Traceback (most recent call last)",
      "\u001b[0;32m<ipython-input-3-54d4eda51351>\u001b[0m in \u001b[0;36m<module>\u001b[0;34m()\u001b[0m\n\u001b[0;32m----> 1\u001b[0;31m \u001b[0mrcParams\u001b[0m\u001b[0;34m[\u001b[0m\u001b[0;34m'figure.figsize'\u001b[0m\u001b[0;34m]\u001b[0m \u001b[0;34m=\u001b[0m \u001b[0;36m17\u001b[0m\u001b[0;34m,\u001b[0m \u001b[0;36m7\u001b[0m\u001b[0;34m\u001b[0m\u001b[0m\n\u001b[0m\u001b[1;32m      2\u001b[0m (ggplot(aes(x = 'invT', y = 'value', color='variable'), first_newton_df) + \n\u001b[1;32m      3\u001b[0m     \u001b[0mgeom_line\u001b[0m\u001b[0;34m(\u001b[0m\u001b[0msize\u001b[0m\u001b[0;34m=\u001b[0m\u001b[0;36m2\u001b[0m\u001b[0;34m)\u001b[0m \u001b[0;34m+\u001b[0m\u001b[0;34m\u001b[0m\u001b[0m\n\u001b[1;32m      4\u001b[0m     \u001b[0mylab\u001b[0m\u001b[0;34m(\u001b[0m\u001b[0;34m'log-scaled value'\u001b[0m\u001b[0;34m)\u001b[0m \u001b[0;34m+\u001b[0m\u001b[0;34m\u001b[0m\u001b[0m\n\u001b[1;32m      5\u001b[0m     xlab('1/T') + theme_bw() + facet_wrap('variable', scales='free'))\n",
      "\u001b[0;31mNameError\u001b[0m: name 'rcParams' is not defined"
     ]
    }
   ],
   "source": [
    "rcParams['figure.figsize'] = 12, 7\n",
    "(ggplot(aes(x = 'invT', y = 'value', color='variable'), first_newton_df) + \n",
    "    geom_line(size=2) + \n",
    "    ylab('log-scaled value') + \n",
    "    xlab('1/T') + theme_bw() + facet_wrap('variable', scales='free'))"
   ]
  },
  {
   "cell_type": "markdown",
   "metadata": {},
   "source": [
    "# Второе задание"
   ]
  },
  {
   "cell_type": "markdown",
   "metadata": {},
   "source": [
    "####  Рассчет K"
   ]
  },
  {
   "cell_type": "code",
   "execution_count": null,
   "metadata": {
    "collapsed": true
   },
   "outputs": [],
   "source": [
    "def calcK4(t):\n",
    "    deltaG4 = calcG('Ga', t) + 2 * calcG('HCl', t) - 2 * calcG('GaCl', t) - calcG('H2', t)\n",
    "    return np.exp(-deltaG4 / (R * t)) / Pa\n",
    "\n",
    "\n",
    "def calcK5(t):\n",
    "    deltaG5 = calcG('GaCl2', t) + calcG('H2', t) - 2 * calcG('HCl', t) - calcG('Ga', t)\n",
    "    return np.exp(deltaG5 / (R * t))\n",
    "\n",
    "\n",
    "def calcK6(t):\n",
    "    deltaG6 = 2 * calcG('GaCl3', t) + 3 * calcG('H2', t) - 6 * calcG('HCl', t) - 2 * calcG('Ga', t)\n",
    "    return np.exp(deltaG6 / (R * t)) * Pa\n",
    "\n",
    "print(\"K4 = \", calcK4(100))\n",
    "print(\"K5 = \", calcK5(100))\n",
    "print(\"K6 = \", calcK6(100))"
   ]
  },
  {
   "cell_type": "code",
   "execution_count": null,
   "metadata": {
    "collapsed": true
   },
   "outputs": [],
   "source": [
    "def second_calcPg(ind):\n",
    "    if ind == 'GaCl' or ind == 'GaCl2' or ind == 'GaCl3' or ind == 'H2':\n",
    "        return 0\n",
    "    if ind == 'HCl':\n",
    "        return 10**4\n",
    "    if ind == 'N2':\n",
    "        return 9 * 10**4\n",
    "    raise Exception('Unexpected substance: ' + ind)\n",
    "\n",
    "def second_make_system(p=100000, T=(650.0 + 273.0)):\n",
    "    p_GaCl, p_GaCl2, p_GaCl3, p_HCl, p_H2 = second_variables = sm.symbols('p_GaCl, p_GaCl2, p_GaCl3, p_HCl, p_H2')\n",
    "    pg_HCl = 10**4\n",
    "    pg_N2 = 9 * 10**4\n",
    "    k4 = calcK4(T)\n",
    "    k5 = calcK5(T)\n",
    "    k6 = calcK6(T)\n",
    "    d_HCl = calcDGas('HCl', T, p)\n",
    "    d_H2 = calcDGas('H2', T, p)\n",
    "    d_GaCl = calcDGas('GaCl', T, p)\n",
    "    d_GaCl2 = calcDGas('GaCl2', T, p)\n",
    "    d_GaCl3 = calcDGas('GaCl3', T, p)\n",
    "    equations = []\n",
    "    equations.append(p_HCl ** 2 - k4 * p_GaCl ** 2 * p_H2)\n",
    "    equations.append(p_HCl ** 2 - k5 * p_GaCl2 * p_H2)\n",
    "    equations.append(p_HCl ** 6 - k6 * p_GaCl3 ** 2 * p_H2 ** 3)\n",
    "    equations.append(d_HCl * (p_HCl - pg_HCl) + 2 * d_H2 * p_H2)\n",
    "    equations.append(d_GaCl  * p_GaCl  + \n",
    "                 2 * d_GaCl2 * p_GaCl2 + \n",
    "                 3 * d_GaCl3 * p_GaCl3 + \n",
    "                     d_HCl * (p_HCl - pg_HCl))\n",
    "    system = sm.Matrix(equations)\n",
    "    jacobian = system.jacobian(second_variables)\n",
    "    system = sm.lambdify(second_variables, system)\n",
    "    jacobian = sm.lambdify(second_variables, jacobian)\n",
    "    return system, jacobian, second_variables\n",
    "\n",
    "print('One of solutions:')\n",
    "system, jacobian, second_variables = second_make_system(T=650.0 + 273)\n",
    "dict(zip(second_variables, newton_solve(system, jacobian, second_variables)[0]))"
   ]
  },
  {
   "cell_type": "code",
   "execution_count": 17,
   "metadata": {},
   "outputs": [
    {
     "ename": "NameError",
     "evalue": "name 'second_calcPg' is not defined",
     "output_type": "error",
     "traceback": [
      "\u001b[0;31m---------------------------------------------------------------------------\u001b[0m",
      "\u001b[0;31mNameError\u001b[0m                                 Traceback (most recent call last)",
      "\u001b[0;32m<ipython-input-17-61465e789ffc>\u001b[0m in \u001b[0;36m<module>\u001b[0;34m()\u001b[0m\n\u001b[1;32m      3\u001b[0m \u001b[0mnruns\u001b[0m \u001b[0;34m=\u001b[0m \u001b[0;36m1\u001b[0m\u001b[0;34m\u001b[0m\u001b[0m\n\u001b[1;32m      4\u001b[0m \u001b[0msigma\u001b[0m \u001b[0;34m=\u001b[0m \u001b[0;36m0.01\u001b[0m\u001b[0;34m\u001b[0m\u001b[0m\n\u001b[0;32m----> 5\u001b[0;31m \u001b[0mp\u001b[0m \u001b[0;34m=\u001b[0m \u001b[0msecond_calcPg\u001b[0m\u001b[0;34m(\u001b[0m\u001b[0;34m'HCl'\u001b[0m\u001b[0;34m)\u001b[0m \u001b[0;34m+\u001b[0m \u001b[0msecond_calcPg\u001b[0m\u001b[0;34m(\u001b[0m\u001b[0;34m'N2'\u001b[0m\u001b[0;34m)\u001b[0m\u001b[0;34m\u001b[0m\u001b[0m\n\u001b[0m\u001b[1;32m      6\u001b[0m second_newton_benchmark = pd.DataFrame(columns=['T_', 'V_Ga', 'G_GaCl', 'G_GaCl2', 'G_GaCl3', \n\u001b[1;32m      7\u001b[0m                                              'rsa', 'rsa_std', 'nstep', 'nstep_std'])\n",
      "\u001b[0;31mNameError\u001b[0m: name 'second_calcPg' is not defined"
     ]
    }
   ],
   "source": [
    "# benchmark\n",
    "# Ts = np.linspace(650, 950, 60) + 273\n",
    "nruns = 1\n",
    "sigma = 0.01\n",
    "p = second_calcPg('HCl') + second_calcPg('N2')\n",
    "second_newton_benchmark = pd.DataFrame(columns=['T_', 'V_Ga', 'G_GaCl', 'G_GaCl2', 'G_GaCl3', \n",
    "                                             'rsa', 'rsa_std', 'nstep', 'nstep_std'])\n",
    "targets = ['GaCl', 'GaCl2', 'GaCl3']\n",
    "for k, T in tqdm(list(enumerate(Ts))):\n",
    "    sols = np.zeros((nruns, 5))\n",
    "    rsa = np.zeros(nruns)\n",
    "    nstep = np.zeros(nruns)\n",
    "    for i in range(nruns):\n",
    "        system, jacobian, second_variables = second_make_system(T=T)\n",
    "        sols[i], rsa[i], nstep[i] = newton_solve(system, jacobian, second_variables, epsilon=1e-9)\n",
    "    sol_std = sols.std(0)\n",
    "    solution = sols.mean(0)\n",
    "    rsa_std = rsa.std()\n",
    "    rsa = rsa.mean()\n",
    "    nstep_std = nstep.std()\n",
    "    nstep = nstep.mean()\n",
    "    # G_i\n",
    "    G = {}\n",
    "    Pe = dict(zip(map(str, second_variables), solution))\n",
    "    for Gas in targets:\n",
    "        G[Gas] = calcDGas(Gas, T, p) * (second_calcPg(Gas) - Pe['p_' + Gas]) / (R * T * sigma)\n",
    "    pho = 5900.\n",
    "    mu = row_data.loc['Ga'].mu\n",
    "    V = (G['GaCl'] + G['GaCl2'] + G['GaCl3']) * (mu / pho) * 1e9\n",
    "    second_newton_benchmark.loc[k] = {\n",
    "        'T_': T,\n",
    "        'V_Ga': V,\n",
    "        'G_GaCl': G['GaCl'],\n",
    "        'G_GaCl2': G['GaCl2'],\n",
    "        'G_GaCl3': G['GaCl3'],\n",
    "        'rsa': rsa,\n",
    "        'rsa_std': rsa_std,\n",
    "        'nstep': nstep,\n",
    "        'nstep_std': nstep_std\n",
    "    }"
   ]
  },
  {
   "cell_type": "code",
   "execution_count": null,
   "metadata": {
    "collapsed": true
   },
   "outputs": [],
   "source": [
    "second_newton_benchmark['invT'] = 1 / second_newton_benchmark.T_\n",
    "second_newton_benchmark['V_Ga_log'] = np.log(np.abs(second_newton_benchmark.V_Ga))\n",
    "\n",
    "second_newton_benchmark['G_GaCl_log'] = np.log(np.abs(second_newton_benchmark.G_GaCl))\n",
    "second_newton_benchmark['G_GaCl2_log'] = np.log(np.abs(second_newton_benchmark.G_GaCl2))\n",
    "second_newton_benchmark['G_GaCl3_log'] = np.log(np.abs(second_newton_benchmark.G_GaCl3))\n",
    "second_newton_df = pd.melt(second_newton_benchmark[['invT', 'V_Ga_log', 'G_GaCl_log', \n",
    "                                      'G_GaCl2_log', 'G_GaCl2_log', 'G_GaCl3_log']], id_vars=['invT'])"
   ]
  },
  {
   "cell_type": "code",
   "execution_count": null,
   "metadata": {
    "collapsed": true
   },
   "outputs": [],
   "source": [
    "rcParams['figure.figsize'] = 10, 7\n",
    "(ggplot(aes(x = 'invT', y = 'value', color='variable'), second_newton_df) + \n",
    "    geom_line(size=2) + \n",
    "    ylab('log-scaled value') + \n",
    "    xlab('1/T') + \n",
    "    theme_bw())"
   ]
  },
  {
   "cell_type": "code",
   "execution_count": null,
   "metadata": {
    "collapsed": true
   },
   "outputs": [],
   "source": [
    "rcParams['figure.figsize'] = 12, 7\n",
    "(ggplot(aes(x = 'invT', y = 'value', color='variable'), second_newton_df) + \n",
    "    geom_line(size=2) + \n",
    "    ylab('log-scaled value') + \n",
    "    xlab('1/T') +\n",
    "    theme_bw() + \n",
    "    facet_wrap('variable', scales='free'))"
   ]
  },
  {
   "cell_type": "markdown",
   "metadata": {
    "collapsed": true
   },
   "source": [
    "## Третье задание"
   ]
  },
  {
   "cell_type": "markdown",
   "metadata": {},
   "source": [
    "#### Рассчет K"
   ]
  },
  {
   "cell_type": "code",
   "execution_count": 28,
   "metadata": {},
   "outputs": [
    {
     "name": "stdout",
     "output_type": "stream",
     "text": [
      "2.27702386893e+30\n",
      "6.3155395805e-40\n",
      "4.80309849033e-309\n",
      "492253.458522\n",
      "5.19845126314e-32\n",
      "1.99523068921e-150\n",
      "86699219.3922\n",
      "5.44646362935e-44\n"
     ]
    }
   ],
   "source": [
    "def calcK9(t):\n",
    "    deltaG9 = calcG('AlCl3', t) + calcG('NH3', t) - calcG('AlN', t) - 3 * calcG('HCl', t)\n",
    "    return np.exp(-deltaG9 / (R * t)) / Pa\n",
    "\n",
    "\n",
    "def calcK10(t):\n",
    "    deltaG10 = calcG('GaCl', t) + calcG('NH3', t) - calcG('HCl', t) - calcG('H2', t) - calcG('GaN', t)\n",
    "    return np.exp(-deltaG10 / (R * t))\n",
    "\n",
    "\n",
    "\n",
    "\n",
    "print(\"K9 = \", calcK9(100))\n",
    "print(\"K10 = \", calcK10(100))"
   ]
  },
  {
   "cell_type": "code",
   "execution_count": null,
   "metadata": {
    "collapsed": true
   },
   "outputs": [],
   "source": [
    "def third_make_system(xg, case='clean N2'):\n",
    "    \"\"\"\n",
    "    xg: in [0, 1]\n",
    "    case: 1 - clean N2\n",
    "          2 - 10% mix of H2 and N2\n",
    "    \"\"\"\n",
    "    p_AlCl3, p_GaCl, p_NH3, p_HCl, p_H2, x = variables = sm.symbols('p_AlCl3, p_GaCl, p_NH3, p_HCl, p_H2, x')\n",
    "    T = 1100 + 273\n",
    "    p_atm = 100000\n",
    "    p_AlGa = 30\n",
    "    pg_NH3 = 1500\n",
    "    pg_HCl = 0\n",
    "    if case == 'clean N2':\n",
    "        pg_H2 = 0\n",
    "        pg_N2 = 98470\n",
    "    elif case == '10% mix of H2 and N2':\n",
    "        pg_H2 = 9847\n",
    "        pg_N2 = 88623\n",
    "    pg_AlCl3 = xg * p_AlGa\n",
    "    pg_GaCl = (1 - xg) * p_AlGa\n",
    "    k9 = calcK9(T)\n",
    "    k10 = calcK10(T)\n",
    "    d_HCl = calcDGas('HCl', T, p_atm)\n",
    "    d_H2 = calcDGas('H2', T, p_atm)\n",
    "    d_NH3 = calcDGas('NH3', T, p_atm)\n",
    "    d_AlCl3 = calcDGas('AlCl3', T, p_atm)\n",
    "    d_GaCl = calcDGas('GaCl', T, p_atm)\n",
    "    d_HCl = calcDGas('HCl', T, p_atm)\n",
    "    equations = []\n",
    "    equations.append(p_AlCl3 * p_NH3 - k9  * x * p_HCl ** 3)\n",
    "    equations.append(p_GaCl  * p_NH3 - k10 * (1 - x) * p_HCl * p_H2)\n",
    "    equations.append(d_HCl * (pg_HCl - p_HCl) +\n",
    "                 2 * d_H2  * (pg_H2  - p_H2 ) +\n",
    "                 3 * d_NH3 * (pg_NH3 - p_NH3))\n",
    "    equations.append(3 * d_AlCl3 * (pg_AlCl3 - p_AlCl3) +\n",
    "                         d_GaCl  * (pg_GaCl  - p_GaCl ) +\n",
    "                         d_HCl   * (pg_HCl   - p_HCl  ))\n",
    "    equations.append(d_AlCl3 * (pg_AlCl3 - p_AlCl3) +\n",
    "                     d_GaCl  * (pg_GaCl  - p_GaCl)  -\n",
    "                     d_NH3   * (pg_NH3   - p_NH3))\n",
    "    equations.append(d_AlCl3 * (pg_AlCl3 - p_AlCl3) * (1 - x) -\n",
    "                     d_GaCl  * (pg_GaCl  - p_GaCl)  * x)\n",
    "    system = sm.Matrix(equations)\n",
    "    jacobian = system.jacobian(variables)\n",
    "    system = sm.lambdify(variables, system)\n",
    "    jacobian = sm.lambdify(variables, jacobian)\n",
    "    return system, jacobian, variables"
   ]
  },
  {
   "cell_type": "code",
   "execution_count": null,
   "metadata": {
    "collapsed": true
   },
   "outputs": [],
   "source": [
    "print('One of solutions:')\n",
    "system, jacobian, variables = third_make_system(0.5)\n",
    "s = newton_solve(system, jacobian, variables)\n",
    "dict(zip(variables, s[0]))"
   ]
  },
  {
   "cell_type": "code",
   "execution_count": null,
   "metadata": {
    "collapsed": true
   },
   "outputs": [],
   "source": [
    "system(*s[0])"
   ]
  },
  {
   "cell_type": "code",
   "execution_count": null,
   "metadata": {
    "collapsed": true
   },
   "outputs": [],
   "source": [
    "# benchmark\n",
    "xgs = np.linspace(0., 1., 60)\n",
    "cases = ['clean N2', '10% mix of H2 and N2']\n",
    "nruns = 1\n",
    "sigma = 0.01\n",
    "p = 100000\n",
    "T = 1100 + 273\n",
    "third_newton_benchmark = pd.DataFrame(columns=['xg', 'case', 'x', 'V_AlGaN', 'G_GaCl', 'G_AlCl3'])\n",
    "targets = ['GaCl', 'AlCl3']\n",
    "for k, (xg, case) in tqdm(list(enumerate(product(xgs, cases)))):\n",
    "    sols = np.zeros((nruns, 6))\n",
    "    rsa = np.zeros(nruns)\n",
    "    nstep = np.zeros(nruns)\n",
    "    for i in range(nruns):\n",
    "        x = 2\n",
    "        while x < 0 or x > 1:\n",
    "            system, jacobian, variables = third_make_system(xg, case)\n",
    "            sols[i], rsa[i], nstep[i] = newton_solve(system, jacobian, variables, epsilon=1e-8)\n",
    "            x = sols[i][-1]\n",
    "    sol_std = sols.std(0)\n",
    "    solution = sols.mean(0)\n",
    "    rsa_std = rsa.std()\n",
    "    rsa = rsa.mean()\n",
    "    nstep_std = nstep.std()\n",
    "    nstep = nstep.mean()\n",
    "    # G_i\n",
    "    G = {}\n",
    "    p_AlGa = 30\n",
    "    Pg = {\n",
    "        'GaCl': (1 - xg) * p_AlGa,\n",
    "        'AlCl3': xg * p_AlGa \n",
    "    }\n",
    "    Pe = dict(zip(map(str, variables), solution))\n",
    "    for Gas in targets:\n",
    "        G[Gas] = calcDGas(Gas, T, p) * (Pg[Gas] - Pe['p_' + Gas]) / (R * T * sigma)\n",
    "    rho_AlN = 3200.\n",
    "    rho_GaN = 6150.\n",
    "    mu_AlN = row_data.loc['AlN'].mu\n",
    "    mu_GaN = row_data.loc['GaN'].mu\n",
    "    V = (G['AlCl3'] * (mu_AlN / rho_AlN) + G['GaCl'] * (mu_GaN / rho_GaN)) * 1e9\n",
    "    if V > 100000:\n",
    "        continue\n",
    "    third_newton_benchmark.loc[k] = {\n",
    "        'xg': xg,\n",
    "        'case': case,\n",
    "        'x': Pe['x'],\n",
    "        'V_AlGaN': V,\n",
    "        'G_GaCl': G['GaCl'],\n",
    "        'G_AlCl3': G['AlCl3'],\n",
    "    }"
   ]
  },
  {
   "cell_type": "code",
   "execution_count": null,
   "metadata": {
    "collapsed": true
   },
   "outputs": [],
   "source": [
    "third = pd.melt(third_newton_benchmark, id_vars=['xg', 'case'])"
   ]
  },
  {
   "cell_type": "code",
   "execution_count": null,
   "metadata": {
    "collapsed": true
   },
   "outputs": [],
   "source": [
    "third.case = third.case.map(str)"
   ]
  },
  {
   "cell_type": "code",
   "execution_count": null,
   "metadata": {
    "collapsed": true
   },
   "outputs": [],
   "source": [
    "(ggplot(aes(y='value', x='xg', color='case'), data=third[third.variable == 'x']) + theme_bw() + \n",
    "     geom_line() + ylab('x'))"
   ]
  }
 ],
 "metadata": {
  "kernelspec": {
   "display_name": "Python 3",
   "language": "python",
   "name": "python3"
  },
  "language_info": {
   "codemirror_mode": {
    "name": "ipython",
    "version": 3
   },
   "file_extension": ".py",
   "mimetype": "text/x-python",
   "name": "python",
   "nbconvert_exporter": "python",
   "pygments_lexer": "ipython3",
   "version": "3.6.2"
  }
 },
 "nbformat": 4,
 "nbformat_minor": 2
}
